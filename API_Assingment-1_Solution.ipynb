{
 "cells": [
  {
   "cell_type": "markdown",
   "id": "fe11c44a-7997-4eb9-b519-390f80d625b5",
   "metadata": {},
   "source": [
    "#### Answer_1"
   ]
  },
  {
   "cell_type": "markdown",
   "id": "147725bf-e8f7-47f1-87e4-5ed32b6bc73c",
   "metadata": {},
   "source": [
    "##### > APIs (Application Programming Interface) are mechanisms that enable two software components to communicate with each other using a set of definitions and protocols. For example, the weather bureau’s software system contains daily weather data. The weather app on your phone “talks” to this system via APIs and shows you daily weather updates on your phone."
   ]
  },
  {
   "cell_type": "markdown",
   "id": "34464054-9708-4cc7-b48a-5cf5983c3152",
   "metadata": {},
   "source": [
    "#### Answer_2"
   ]
  },
  {
   "cell_type": "markdown",
   "id": "6685225f-0f2c-4ab1-98fb-96d52e2f5411",
   "metadata": {},
   "source": [
    "|              Advantages               |             Disadavantages             |\n",
    "|---------------------------------------|----------------------------------------|\n",
    "| 1) Internet based connectivity.       | 1) Implementing and providing API capabilities can be costly in terms of development times, ongoing maintenance requirements, and providing support. |\n",
    "| 2) Communication is two-way with confirmations included within the transaction sets | 2)Scaling API requires extensive programming knowledge and the learning curve can fairly steep when understanding how to extend the capabilities of your API framework.|\n",
    "| 3) Since communication is two-way APIs offer reliable transaction sets | 3) Security can be a concern as APIs add another potential attack layer to programs/websites. |\n",
    "| 4) The end product offers user-friendly experiences improving internal and external user satisfaction | |\n",
    "| 5) Provides evolving functionality as developers find new uses for API exchanges | | \n"
   ]
  },
  {
   "cell_type": "markdown",
   "id": "c5555908-edae-45dd-95d1-f8a9c43d5b4f",
   "metadata": {},
   "source": [
    "#### Answer_3"
   ]
  },
  {
   "cell_type": "markdown",
   "id": "085e6a35-4fe0-470f-abad-3311acb9a0f2",
   "metadata": {},
   "source": [
    "##### > Provides evolving functionality as developers find new uses for API exchanges.\n",
    "##### > It is a framework that helps us to create and develop HTTP based RESTFUL services.\n",
    "##### > The web API can be developed by using different technologies such as java, ASP.NET, etc.\n",
    "##### >  Web API is used in either a web server or a web browser.\n",
    "\n",
    "|                  API                  |                 WEB API               |\n",
    "|---------------------------------------|---------------------------------------|\n",
    "| 1) API can be developed using TCP, SMTP, HTTP protocols. | 1) WEB API is developed only using HTTP. |\n",
    "| 2) API is whole.                      | 2) WEB API is subset of API.\n",
    "\n"
   ]
  },
  {
   "cell_type": "markdown",
   "id": "fb503e83-e4f3-4700-9f47-2468d71ffdf6",
   "metadata": {},
   "source": [
    "#### Answer_4"
   ]
  },
  {
   "cell_type": "markdown",
   "id": "dde9e103-ac94-439e-99e8-cb9e231123dd",
   "metadata": {},
   "source": [
    "### REST API :-\n",
    "##### > REST stands for REpresentational State Transfer.\n",
    "##### > REST is an architectural style that doesn’t follow any strict standard but follows six constraints. They are as follows:\n",
    "###### >> Uniform Interface\n",
    "###### >> Client Server\n",
    "###### >> Stateless\n",
    "###### >> Cacheable\n",
    "###### >> Layered System\n",
    "###### >> Code on Demand\n",
    "##### > REST is not restricted to XML and its the choice of implementer which Media-Type to use like XML, JSON, Plain-text.\n",
    "##### > Moreover, REST can use SOAP protocol but SOAP cannot use REST.\n",
    "##### > REST can make use of SOAP because it is an architectural pattern having protocol.\n",
    "##### > On behalf of services interfaces to business logic REST uses URL like @Path.\n",
    "##### > REST is easy to implement and requires less bandwidth such as smartphones.\n",
    "##### > REST has SSL and HTTP.\n",
    "\n",
    "### SOAP API :-\n",
    "##### > SOAP stands for Simple Object Access Protocol.\n",
    "##### >  SOAP is a protocol, it follows a strict standard to allow communication between the client and the server.\n",
    "##### > SOAP uses only XML for exchanging information in its message format.\n",
    "##### > SOAP cannot use REST.\n",
    "##### > On behalf of services interfaces to business logic, SOAP uses @WebService.\n",
    "##### > SOAP is difficult to implement and it requires more bandwidth.\n",
    "##### > Benefits of SOAP over REST as SOAP has ACID compliance transaction. Some of the applications require transaction ability which is accepted by SOAP whereas REST lacks in it.\n",
    "##### > On the basis of Security, SOAP has SSL( Secure Socket Layer) and WS-security.\n",
    "##### > In the case of Bank Account Password, Card Number, etc. SOAP is preferred over REST."
   ]
  },
  {
   "cell_type": "markdown",
   "id": "863197c8-b990-47af-8aa1-b92214b04c15",
   "metadata": {},
   "source": [
    "#### Answer_5"
   ]
  },
  {
   "cell_type": "markdown",
   "id": "6145021e-490b-40d1-a679-197191f571ee",
   "metadata": {},
   "source": [
    "|                SOAP API             |               REST API                |\n",
    "|-------------------------------------|---------------------------------------|\n",
    "| 1) Relies on SOAP (Simple Object Access Protocol) | 1) Relies on REST (Representational State Transfer) architecture using HTTP. |\n",
    "| 2) Transports data in standard XML format. | 2) Generally transports data in JSON. It is based on URI. Because REST follows stateless model, REST does not enforces message format as XML or JSON etc. |\n",
    "| 3) Because it is XML based and relies on SOAP, it works with WSDL | 3) It works with GET, POST, PUT, DELETE |\n",
    "| 4) Works over HTTP, HTTPS, SMTP, XMPP | 4) Works over HTTP and HTTPS |\n",
    "| 5) Highly structured/typed | 5) Less structured -> less bulky data |\n",
    "| 6) Designed with large enterprise applications in mind | 6) Designed with mobile devices in mind |"
   ]
  },
  {
   "cell_type": "code",
   "execution_count": null,
   "id": "ba014dae-f1f9-4c1e-8631-76fd0622d9e4",
   "metadata": {},
   "outputs": [],
   "source": []
  },
  {
   "cell_type": "code",
   "execution_count": null,
   "id": "a36b1ec4-b36f-40eb-8695-12855a1a6aca",
   "metadata": {},
   "outputs": [],
   "source": []
  },
  {
   "cell_type": "code",
   "execution_count": null,
   "id": "0a5f7bf7-e9a8-4ea8-a546-a4d328e1f689",
   "metadata": {},
   "outputs": [],
   "source": []
  },
  {
   "cell_type": "code",
   "execution_count": null,
   "id": "b771d042-3ca2-4c33-ae3f-4058f5a905d0",
   "metadata": {},
   "outputs": [],
   "source": []
  },
  {
   "cell_type": "code",
   "execution_count": null,
   "id": "45ebe29e-92ff-4ea6-9f4b-512a55c64504",
   "metadata": {},
   "outputs": [],
   "source": []
  },
  {
   "cell_type": "code",
   "execution_count": null,
   "id": "369bca0f-f485-448c-b086-bf84d3206e37",
   "metadata": {},
   "outputs": [],
   "source": []
  },
  {
   "cell_type": "code",
   "execution_count": null,
   "id": "d9504f5c-0dce-467e-b173-307d3df52b70",
   "metadata": {},
   "outputs": [],
   "source": []
  },
  {
   "cell_type": "code",
   "execution_count": null,
   "id": "3aa0f4af-dadb-438e-b543-f4253c6efd30",
   "metadata": {},
   "outputs": [],
   "source": []
  },
  {
   "cell_type": "code",
   "execution_count": null,
   "id": "5a95dbb2-044f-462a-8afe-2a9beee60bb0",
   "metadata": {},
   "outputs": [],
   "source": []
  },
  {
   "cell_type": "code",
   "execution_count": null,
   "id": "2eb47bad-63ad-4ddc-bab5-ffa9f5beebc7",
   "metadata": {},
   "outputs": [],
   "source": []
  },
  {
   "cell_type": "code",
   "execution_count": null,
   "id": "1e6eea36-3e17-4d0f-b1f6-c0cd033f9d89",
   "metadata": {},
   "outputs": [],
   "source": []
  },
  {
   "cell_type": "code",
   "execution_count": null,
   "id": "a68318c1-4698-4c8e-b667-0c7e87f53d6c",
   "metadata": {},
   "outputs": [],
   "source": []
  },
  {
   "cell_type": "code",
   "execution_count": null,
   "id": "a5b72831-8180-4e91-8307-4be3b2069de7",
   "metadata": {},
   "outputs": [],
   "source": []
  },
  {
   "cell_type": "code",
   "execution_count": null,
   "id": "b3413bfd-4b8e-4b74-bc49-b0ee9842b4cd",
   "metadata": {},
   "outputs": [],
   "source": []
  },
  {
   "cell_type": "code",
   "execution_count": null,
   "id": "2ad32918-0bda-41c2-9e1b-ebc8400cf57a",
   "metadata": {},
   "outputs": [],
   "source": []
  },
  {
   "cell_type": "code",
   "execution_count": null,
   "id": "85fd5e43-9011-4cf2-a3ec-dd2074512b0d",
   "metadata": {},
   "outputs": [],
   "source": []
  }
 ],
 "metadata": {
  "kernelspec": {
   "display_name": "Python 3 (ipykernel)",
   "language": "python",
   "name": "python3"
  },
  "language_info": {
   "codemirror_mode": {
    "name": "ipython",
    "version": 3
   },
   "file_extension": ".py",
   "mimetype": "text/x-python",
   "name": "python",
   "nbconvert_exporter": "python",
   "pygments_lexer": "ipython3",
   "version": "3.10.8"
  }
 },
 "nbformat": 4,
 "nbformat_minor": 5
}
